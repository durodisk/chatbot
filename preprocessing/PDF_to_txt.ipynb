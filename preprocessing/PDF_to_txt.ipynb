{
  "nbformat": 4,
  "nbformat_minor": 0,
  "metadata": {
    "colab": {
      "provenance": []
    },
    "kernelspec": {
      "name": "python3",
      "display_name": "Python 3"
    },
    "language_info": {
      "name": "python"
    }
  },
  "cells": [
    {
      "cell_type": "code",
      "execution_count": null,
      "metadata": {
        "colab": {
          "base_uri": "https://localhost:8080/"
        },
        "id": "WC1KKP2vZ63G",
        "outputId": "a583ff1b-9deb-411a-f149-e6515a5b47e4"
      },
      "outputs": [
        {
          "output_type": "stream",
          "name": "stdout",
          "text": [
            "Mounted at /content/drive\n"
          ]
        }
      ],
      "source": [
        "from google.colab import drive\n",
        "\n",
        "drive.mount('/content/drive')"
      ]
    },
    {
      "cell_type": "code",
      "source": [
        "import os\n",
        "\n",
        "# Get the path to the mounted Drive\n",
        "root_path = \"/content/drive/MyDrive/Dapta\""
      ],
      "metadata": {
        "colab": {
          "base_uri": "https://localhost:8080/"
        },
        "id": "8xIJVMFta9uN",
        "outputId": "cdfc71e4-9ea5-4276-b5c4-7681b7f07896"
      },
      "execution_count": null,
      "outputs": [
        {
          "output_type": "stream",
          "name": "stdout",
          "text": [
            "PDFs\n"
          ]
        }
      ]
    },
    {
      "cell_type": "code",
      "source": [
        "!pip install pdfquery"
      ],
      "metadata": {
        "colab": {
          "base_uri": "https://localhost:8080/"
        },
        "id": "2Si01TYvbvfd",
        "outputId": "0810068f-f096-4f65-82aa-b33e0f3e0ef4"
      },
      "execution_count": null,
      "outputs": [
        {
          "output_type": "stream",
          "name": "stdout",
          "text": [
            "Requirement already satisfied: pdfquery in /usr/local/lib/python3.10/dist-packages (0.4.3)\n",
            "Requirement already satisfied: cssselect>=0.7.1 in /usr/local/lib/python3.10/dist-packages (from pdfquery) (1.2.0)\n",
            "Requirement already satisfied: chardet in /usr/local/lib/python3.10/dist-packages (from pdfquery) (5.2.0)\n",
            "Requirement already satisfied: lxml>=3.0 in /usr/local/lib/python3.10/dist-packages (from pdfquery) (4.9.4)\n",
            "Requirement already satisfied: pdfminer.six in /usr/local/lib/python3.10/dist-packages (from pdfquery) (20231228)\n",
            "Requirement already satisfied: pyquery>=1.2.2 in /usr/local/lib/python3.10/dist-packages (from pdfquery) (2.0.0)\n",
            "Requirement already satisfied: roman>=1.4.0 in /usr/local/lib/python3.10/dist-packages (from pdfquery) (4.1)\n",
            "Requirement already satisfied: charset-normalizer>=2.0.0 in /usr/local/lib/python3.10/dist-packages (from pdfminer.six->pdfquery) (3.3.2)\n",
            "Requirement already satisfied: cryptography>=36.0.0 in /usr/local/lib/python3.10/dist-packages (from pdfminer.six->pdfquery) (42.0.2)\n",
            "Requirement already satisfied: cffi>=1.12 in /usr/local/lib/python3.10/dist-packages (from cryptography>=36.0.0->pdfminer.six->pdfquery) (1.16.0)\n",
            "Requirement already satisfied: pycparser in /usr/local/lib/python3.10/dist-packages (from cffi>=1.12->cryptography>=36.0.0->pdfminer.six->pdfquery) (2.21)\n"
          ]
        }
      ]
    },
    {
      "cell_type": "markdown",
      "source": [
        "# Texts 1 page"
      ],
      "metadata": {
        "id": "6J5446nWlRu-"
      }
    },
    {
      "cell_type": "code",
      "source": [
        "import os\n",
        "import pdfquery\n",
        "import io\n",
        "\n",
        "# Path of the folder containing the input PDF files\n",
        "input_folder_path = \"/content/drive/MyDrive/Dapta/PDFs/1p\"\n",
        "# Path of the folder where the text files will be saved\n",
        "output_folder_path = \"/content/drive/MyDrive/Dapta/Texts/1p\""
      ],
      "metadata": {
        "id": "AGcF-CaxcvS9"
      },
      "execution_count": null,
      "outputs": []
    },
    {
      "cell_type": "code",
      "source": [
        "# Function to extract text from a PDF and save it to a text file\n",
        "def extract_text_from_pdf(input_pdf_path, output_text_path):\n",
        "    pdf = pdfquery.PDFQuery(input_pdf_path)\n",
        "    pdf.load()\n",
        "    text = pdf.pq(\"LTTextLineHorizontal\").text()\n",
        "    with io.open(output_text_path, \"w\", encoding=\"utf-8\") as f:\n",
        "        f.write(text)\n",
        "\n",
        "# Function to replace \"|\" character with newline in a text file\n",
        "def replace_pipe_with_newline(input_text_path):\n",
        "    with open(input_text_path, \"r\", encoding=\"utf-8\") as f:\n",
        "        text = f.read()\n",
        "    modified_text = text.replace(\"|\", \"\\n\")\n",
        "    with open(input_text_path, \"w\", encoding=\"utf-8\") as f:\n",
        "        f.write(modified_text)"
      ],
      "metadata": {
        "id": "FZwWKOKwe4VA"
      },
      "execution_count": null,
      "outputs": []
    },
    {
      "cell_type": "code",
      "source": [
        "# List all files in the input folder\n",
        "pdf_files = [file for file in os.listdir(input_folder_path) if file.endswith(\".pdf\")]\n",
        "\n",
        "# Iterate over the PDF files\n",
        "for pdf_file in pdf_files:\n",
        "    input_pdf_path = os.path.join(input_folder_path, pdf_file)\n",
        "    output_text_path = os.path.join(output_folder_path, os.path.splitext(pdf_file)[0] + \".txt\")\n",
        "\n",
        "    # Extract text from the PDF and save it to a text file\n",
        "    extract_text_from_pdf(input_pdf_path, output_text_path)\n",
        "\n",
        "    # Replace \"|\" with newline in the text file\n",
        "    replace_pipe_with_newline(output_text_path)"
      ],
      "metadata": {
        "id": "HQ0FXrG4e6KN"
      },
      "execution_count": null,
      "outputs": []
    },
    {
      "cell_type": "markdown",
      "source": [
        "# Textos 2 Pages"
      ],
      "metadata": {
        "id": "BwBogyPHmD0Q"
      }
    },
    {
      "cell_type": "code",
      "source": [
        "pip install PyMuPDF"
      ],
      "metadata": {
        "colab": {
          "base_uri": "https://localhost:8080/"
        },
        "id": "t4vUNKXZoAEr",
        "outputId": "6f8b93c9-c0f6-4674-daed-0f518ea8a3d3"
      },
      "execution_count": null,
      "outputs": [
        {
          "output_type": "stream",
          "name": "stdout",
          "text": [
            "Requirement already satisfied: PyMuPDF in /usr/local/lib/python3.10/dist-packages (1.23.22)\n",
            "Requirement already satisfied: PyMuPDFb==1.23.22 in /usr/local/lib/python3.10/dist-packages (from PyMuPDF) (1.23.22)\n"
          ]
        }
      ]
    },
    {
      "cell_type": "markdown",
      "source": [
        "PDF to Image"
      ],
      "metadata": {
        "id": "FAJ0Rkg_pumL"
      }
    },
    {
      "cell_type": "code",
      "source": [
        "import os\n",
        "import fitz\n",
        "from PIL import Image\n",
        "\n",
        "# Path of the folder containing the input PDF files\n",
        "input_folder_path = \"/content/drive/MyDrive/Dapta/PDFs/2p\"\n",
        "# Path of the folder where the images will be saved\n",
        "image_folder_path = \"/content/drive/MyDrive/Dapta/PDFs/2p/complete_images\"\n",
        "\n",
        "# Function to convert each page of a PDF into an image\n",
        "def pdf_to_images(input_pdf_path, image_folder_path):\n",
        "    # Create a folder for the images with the same name as the PDF\n",
        "    pdf_name = os.path.splitext(os.path.basename(input_pdf_path))[0]\n",
        "    output_pdf_folder_path = os.path.join(image_folder_path, pdf_name)\n",
        "    os.makedirs(output_pdf_folder_path, exist_ok=True)\n",
        "\n",
        "    # Open the PDF file\n",
        "    with fitz.open(input_pdf_path) as pdf:\n",
        "        for page_number in range(len(pdf)):\n",
        "            # Get the page\n",
        "            page = pdf[page_number]\n",
        "            # Render the page as an image (high DPI for better quality)\n",
        "            pixmap = page.get_pixmap(matrix=fitz.Matrix(300/72, 300/72))\n",
        "            # Convert the Pixmap to a PIL Image\n",
        "            img = Image.frombytes(\"RGB\", [pixmap.width, pixmap.height], pixmap.samples)\n",
        "            # Save the image in the output folder\n",
        "            image_path = os.path.join(output_pdf_folder_path, f\"{pdf_name}_page_{page_number + 1}.png\")\n",
        "            img.save(image_path, format=\"PNG\")\n",
        "\n",
        "# List all files in the input folder\n",
        "pdf_files = [file for file in os.listdir(input_folder_path) if file.endswith(\".pdf\")]\n",
        "\n",
        "# Iterate over the PDF files\n",
        "for pdf_file in pdf_files:\n",
        "    input_pdf_path = os.path.join(input_folder_path, pdf_file)\n",
        "\n",
        "    # Convert each page of the PDF into images and save them in a folder with the PDF name\n",
        "    pdf_to_images(input_pdf_path, image_folder_path)"
      ],
      "metadata": {
        "id": "JEv7yluumO9P"
      },
      "execution_count": null,
      "outputs": []
    },
    {
      "cell_type": "markdown",
      "source": [
        "dividir imagenes en 2"
      ],
      "metadata": {
        "id": "WTSvcITUpyuz"
      }
    },
    {
      "cell_type": "code",
      "source": [
        "import os\n",
        "from PIL import Image\n",
        "\n",
        "# Carpeta de entrada con las imágenes completas\n",
        "input_folder_path = \"/content/drive/MyDrive/Dapta/PDFs/2p/complete_images\"\n",
        "# Carpeta de salida donde se guardarán las imágenes divididas\n",
        "output_folder_path = \"/content/drive/MyDrive/Dapta/PDFs/2p/divided_images\"\n",
        "\n",
        "# Lista de archivos en la carpeta de entrada\n",
        "image_files = [file for file in os.listdir(input_folder_path) if file.endswith((\".jpg\", \".jpeg\", \".png\"))]\n",
        "\n",
        "# Iterar sobre cada imagen en la carpeta de entrada\n",
        "for image_file in image_files:\n",
        "    # Ruta completa de la imagen de entrada\n",
        "    input_image_path = os.path.join(input_folder_path, image_file)\n",
        "\n",
        "    # Abrir la imagen\n",
        "    with Image.open(input_image_path) as img:\n",
        "        # Obtener el ancho y la altura de la imagen\n",
        "        width, height = img.size\n",
        "\n",
        "        # Dividir la imagen por la mitad verticalmente\n",
        "        left_half = img.crop((0, 0, width // 2, height))\n",
        "        right_half = img.crop((width // 2, 0, width, height))\n",
        "\n",
        "        # Crear nombres de archivo para las dos partes de la imagen\n",
        "        folder_name = os.path.splitext(image_file)[0]\n",
        "        output_file1_name = f\"{folder_name}_1.png\"\n",
        "        output_file2_name = f\"{folder_name}_2.png\"\n",
        "\n",
        "        # Guardar las dos partes de la imagen en la carpeta de salida\n",
        "        left_half.save(os.path.join(output_folder_path, output_file1_name))\n",
        "        right_half.save(os.path.join(output_folder_path, output_file2_name))\n"
      ],
      "metadata": {
        "id": "VcTHQXP2py_I"
      },
      "execution_count": null,
      "outputs": []
    },
    {
      "cell_type": "markdown",
      "source": [
        "Renombrar imagenes"
      ],
      "metadata": {
        "id": "9JDOfz7Guy6c"
      }
    },
    {
      "cell_type": "code",
      "source": [
        "import os\n",
        "\n",
        "# Ruta de la carpeta raíz\n",
        "root_folder = \"/content/drive/MyDrive/Dapta/PDFs/2p/divided_images\"\n",
        "\n",
        "# Función para renombrar las imágenes dentro de una carpeta\n",
        "def rename_images(folder_path):\n",
        "    # Listar todas las imágenes en la carpeta\n",
        "    image_files = [file for file in os.listdir(folder_path) if file.endswith((\".jpg\", \".jpeg\", \".png\"))]\n",
        "\n",
        "    # Iterar sobre las imágenes y renombrarlas\n",
        "    for i, image_file in enumerate(image_files, start=1):\n",
        "        # Ruta completa de la imagen original\n",
        "        old_image_path = os.path.join(folder_path, image_file)\n",
        "\n",
        "        # Determinar la extensión de la imagen\n",
        "        _, extension = os.path.splitext(image_file)\n",
        "\n",
        "        # Nuevo nombre de la imagen con el formato \"número.extensión\"\n",
        "        new_image_name = f\"{i}{extension}\"\n",
        "        new_image_path = os.path.join(folder_path, new_image_name)\n",
        "\n",
        "        # Renombrar la imagen\n",
        "        os.rename(old_image_path, new_image_path)\n",
        "\n",
        "# Iterar sobre las subcarpetas en la carpeta raíz\n",
        "for folder_name in os.listdir(root_folder):\n",
        "    folder_path = os.path.join(root_folder, folder_name)\n",
        "    if os.path.isdir(folder_path):\n",
        "        # Renombrar las imágenes dentro de cada subcarpeta\n",
        "        rename_images(folder_path)\n",
        "\n",
        "print(\"Imágenes renombradas exitosamente.\")\n"
      ],
      "metadata": {
        "colab": {
          "base_uri": "https://localhost:8080/"
        },
        "id": "0hP3Ky8Xu0No",
        "outputId": "b1fdd7d3-6fd2-4513-921d-d75cae69f04f"
      },
      "execution_count": null,
      "outputs": [
        {
          "output_type": "stream",
          "name": "stdout",
          "text": [
            "Imágenes renombradas exitosamente.\n"
          ]
        }
      ]
    },
    {
      "cell_type": "markdown",
      "source": [
        "image to text with pytesseract"
      ],
      "metadata": {
        "id": "T1mCpSfEtk_Y"
      }
    },
    {
      "cell_type": "code",
      "source": [
        "!sudo apt install tesseract-ocr\n",
        "!pip install pytesseract"
      ],
      "metadata": {
        "colab": {
          "base_uri": "https://localhost:8080/"
        },
        "id": "raWjyW4vzz8e",
        "outputId": "d404c9ec-d49e-4f6b-f50a-2917588fec1a"
      },
      "execution_count": null,
      "outputs": [
        {
          "output_type": "stream",
          "name": "stdout",
          "text": [
            "Reading package lists... Done\n",
            "Building dependency tree... Done\n",
            "Reading state information... Done\n",
            "The following additional packages will be installed:\n",
            "  tesseract-ocr-eng tesseract-ocr-osd\n",
            "The following NEW packages will be installed:\n",
            "  tesseract-ocr tesseract-ocr-eng tesseract-ocr-osd\n",
            "0 upgraded, 3 newly installed, 0 to remove and 33 not upgraded.\n",
            "Need to get 4,816 kB of archives.\n",
            "After this operation, 15.6 MB of additional disk space will be used.\n",
            "Get:1 http://archive.ubuntu.com/ubuntu jammy/universe amd64 tesseract-ocr-eng all 1:4.00~git30-7274cfa-1.1 [1,591 kB]\n",
            "Get:2 http://archive.ubuntu.com/ubuntu jammy/universe amd64 tesseract-ocr-osd all 1:4.00~git30-7274cfa-1.1 [2,990 kB]\n",
            "Get:3 http://archive.ubuntu.com/ubuntu jammy/universe amd64 tesseract-ocr amd64 4.1.1-2.1build1 [236 kB]\n",
            "Fetched 4,816 kB in 1s (8,844 kB/s)\n",
            "debconf: unable to initialize frontend: Dialog\n",
            "debconf: (No usable dialog-like program is installed, so the dialog based frontend cannot be used. at /usr/share/perl5/Debconf/FrontEnd/Dialog.pm line 78, <> line 3.)\n",
            "debconf: falling back to frontend: Readline\n",
            "debconf: unable to initialize frontend: Readline\n",
            "debconf: (This frontend requires a controlling tty.)\n",
            "debconf: falling back to frontend: Teletype\n",
            "dpkg-preconfigure: unable to re-open stdin: \n",
            "Selecting previously unselected package tesseract-ocr-eng.\n",
            "(Reading database ... 121749 files and directories currently installed.)\n",
            "Preparing to unpack .../tesseract-ocr-eng_1%3a4.00~git30-7274cfa-1.1_all.deb ...\n",
            "Unpacking tesseract-ocr-eng (1:4.00~git30-7274cfa-1.1) ...\n",
            "Selecting previously unselected package tesseract-ocr-osd.\n",
            "Preparing to unpack .../tesseract-ocr-osd_1%3a4.00~git30-7274cfa-1.1_all.deb ...\n",
            "Unpacking tesseract-ocr-osd (1:4.00~git30-7274cfa-1.1) ...\n",
            "Selecting previously unselected package tesseract-ocr.\n",
            "Preparing to unpack .../tesseract-ocr_4.1.1-2.1build1_amd64.deb ...\n",
            "Unpacking tesseract-ocr (4.1.1-2.1build1) ...\n",
            "Setting up tesseract-ocr-eng (1:4.00~git30-7274cfa-1.1) ...\n",
            "Setting up tesseract-ocr-osd (1:4.00~git30-7274cfa-1.1) ...\n",
            "Setting up tesseract-ocr (4.1.1-2.1build1) ...\n",
            "Processing triggers for man-db (2.10.2-1) ...\n",
            "Requirement already satisfied: pytesseract in /usr/local/lib/python3.10/dist-packages (0.3.10)\n",
            "Requirement already satisfied: packaging>=21.3 in /usr/local/lib/python3.10/dist-packages (from pytesseract) (23.2)\n",
            "Requirement already satisfied: Pillow>=8.0.0 in /usr/local/lib/python3.10/dist-packages (from pytesseract) (9.4.0)\n"
          ]
        }
      ]
    },
    {
      "cell_type": "markdown",
      "source": [
        "Prueba, leer una imagen e imprimir el texto"
      ],
      "metadata": {
        "id": "gLhlDSmk1UXL"
      }
    },
    {
      "cell_type": "code",
      "source": [
        "import pytesseract\n",
        "from PIL import Image\n",
        "\n",
        "# Ruta de la imagen de entrada\n",
        "input_image_path = \"/content/drive/MyDrive/Dapta/PDFs/2p/divided_images/High Output Management Chapter 1 - 2 Basics of Production and Managing Production/5.png\"\n",
        "\n",
        "# Abrir la imagen\n",
        "with Image.open(input_image_path) as img:\n",
        "    # Utilizar pytesseract para realizar OCR en la imagen y obtener el texto\n",
        "    recognized_text = pytesseract.image_to_string(img)\n",
        "\n",
        "# Imprimir el texto reconocido\n",
        "print(\"Texto reconocido:\")\n",
        "print(recognized_text)"
      ],
      "metadata": {
        "id": "Ar028TAH0Var"
      },
      "execution_count": null,
      "outputs": []
    },
    {
      "cell_type": "code",
      "source": [
        "import os\n",
        "import pytesseract\n",
        "from PIL import Image\n",
        "\n",
        "# Ruta de la carpeta raíz\n",
        "root_folder = \"/content/drive/MyDrive/Dapta/PDFs/2p/divided_images\"\n",
        "\n",
        "# Función para leer el texto de una imagen y escribirlo en un archivo de texto\n",
        "def extract_text_and_write_to_file(image_path, text_file_path):\n",
        "    # Abrir la imagen\n",
        "    with Image.open(image_path) as img:\n",
        "        # Utilizar pytesseract para realizar OCR en la imagen y obtener el texto\n",
        "        recognized_text = pytesseract.image_to_string(img)\n",
        "\n",
        "    # Escribir el texto reconocido en un archivo de texto\n",
        "    with open(text_file_path, \"a\") as text_file:\n",
        "        text_file.write(recognized_text + \"\\n\")\n",
        "\n",
        "# Iterar sobre las subcarpetas en la carpeta raíz\n",
        "for folder_name in os.listdir(root_folder):\n",
        "    folder_path = os.path.join(root_folder, folder_name)\n",
        "    if os.path.isdir(folder_path):\n",
        "        # Crear un archivo de texto para guardar el texto extraído\n",
        "        text_file_path = os.path.join(folder_path, f\"{folder_name}.txt\")\n",
        "\n",
        "        # Iterar sobre las imágenes en la subcarpeta\n",
        "        for i in range(1, len(os.listdir(folder_path)) + 1):\n",
        "            # Ruta de la imagen actual\n",
        "            image_path = os.path.join(folder_path, f\"{i}.png\")\n",
        "\n",
        "            # Leer el texto de la imagen actual y escribirlo en el archivo de texto\n",
        "            extract_text_and_write_to_file(image_path, text_file_path)"
      ],
      "metadata": {
        "colab": {
          "base_uri": "https://localhost:8080/"
        },
        "id": "JNFzDYqq1S3n",
        "outputId": "91bca266-a3b3-4b4a-c4fb-f4c58a2433d0"
      },
      "execution_count": null,
      "outputs": [
        {
          "output_type": "stream",
          "name": "stdout",
          "text": [
            "Texto extraído y guardado exitosamente.\n"
          ]
        }
      ]
    },
    {
      "cell_type": "markdown",
      "source": [
        "Clean txt"
      ],
      "metadata": {
        "id": "3RaEa_qTAn8h"
      }
    },
    {
      "cell_type": "code",
      "source": [
        "import os\n",
        "\n",
        "# Root folder path\n",
        "root_folder = \"/content/drive/MyDrive/Dapta/PDFs/2p/divided_images\"\n",
        "# Output folder where cleaned text files will be saved\n",
        "output_folder = \"/content/drive/MyDrive/Dapta/Texts/2p\"\n",
        "\n",
        "# Function to clean a text file and save the clean content to a new file\n",
        "def clean_text_file(input_file_path, output_file_path):\n",
        "    # Read the content of the original file and clean it\n",
        "    with open(input_file_path, \"r\") as input_file:\n",
        "        lines = input_file.readlines()\n",
        "        clean_lines = [line.strip() for line in lines if len(line.strip().split()) > 2]\n",
        "\n",
        "    # Save the clean content to a new text file\n",
        "    with open(output_file_path, \"w\") as output_file:\n",
        "        output_file.write(\"\\n\".join(clean_lines))\n",
        "\n",
        "# Iterate over the subfolders in the root folder\n",
        "for folder_name in os.listdir(root_folder):\n",
        "    folder_path = os.path.join(root_folder, folder_name)\n",
        "    if os.path.isdir(folder_path):\n",
        "        # Path of the original text file within the current subfolder\n",
        "        input_file_path = os.path.join(folder_path, f\"{folder_name}.txt\")\n",
        "        # Path of the new text file in the output folder\n",
        "        output_file_path = os.path.join(output_folder, f\"{folder_name}.txt\")\n",
        "\n",
        "        # Clean the text file and save the clean content to the new file\n",
        "        clean_text_file(input_file_path, output_file_path)"
      ],
      "metadata": {
        "id": "mIoZ4HsIApKu"
      },
      "execution_count": null,
      "outputs": []
    }
  ]
}